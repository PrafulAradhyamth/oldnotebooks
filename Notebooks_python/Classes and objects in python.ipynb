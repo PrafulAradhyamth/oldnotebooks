{
 "cells": [
  {
   "cell_type": "code",
   "execution_count": 36,
   "id": "9d2910bf",
   "metadata": {},
   "outputs": [],
   "source": [
    "import numpy\n",
    "from sklearn import linear_model\n",
    "import matplotlib\n"
   ]
  },
  {
   "cell_type": "code",
   "execution_count": 37,
   "id": "b6a7a2ec",
   "metadata": {},
   "outputs": [
    {
     "ename": "NameError",
     "evalue": "name 'LinearRegression' is not defined",
     "output_type": "error",
     "traceback": [
      "\u001b[1;31m---------------------------------------------------------------------------\u001b[0m",
      "\u001b[1;31mNameError\u001b[0m                                 Traceback (most recent call last)",
      "Cell \u001b[1;32mIn[37], line 4\u001b[0m\n\u001b[0;32m      1\u001b[0m reg \u001b[38;5;241m=\u001b[39m linear_model\u001b[38;5;241m.\u001b[39mLinearRegression()\n\u001b[0;32m      2\u001b[0m reg\u001b[38;5;241m.\u001b[39mfit([[\u001b[38;5;241m0\u001b[39m, \u001b[38;5;241m0\u001b[39m], [\u001b[38;5;241m1\u001b[39m, \u001b[38;5;241m1\u001b[39m], [\u001b[38;5;241m2\u001b[39m, \u001b[38;5;241m2\u001b[39m]], [\u001b[38;5;241m0\u001b[39m, \u001b[38;5;241m1\u001b[39m, \u001b[38;5;241m2\u001b[39m])\n\u001b[1;32m----> 4\u001b[0m \u001b[43mLinearRegression\u001b[49m()\n",
      "\u001b[1;31mNameError\u001b[0m: name 'LinearRegression' is not defined"
     ]
    }
   ],
   "source": [
    "reg = linear_model.LinearRegression()\n",
    "reg.fit([[0, 0], [1, 1], [2, 2]], [0, 1, 2])\n",
    "\n",
    "LinearRegression()\n"
   ]
  },
  {
   "cell_type": "code",
   "execution_count": 38,
   "id": "a6dc86be",
   "metadata": {
    "scrolled": false
   },
   "outputs": [
    {
     "name": "stdout",
     "output_type": "stream",
     "text": [
      "Help on class int in module builtins:\n",
      "\n",
      "class int(object)\n",
      " |  int([x]) -> integer\n",
      " |  int(x, base=10) -> integer\n",
      " |  \n",
      " |  Convert a number or string to an integer, or return 0 if no arguments\n",
      " |  are given.  If x is a number, return x.__int__().  For floating point\n",
      " |  numbers, this truncates towards zero.\n",
      " |  \n",
      " |  If x is not a number or if base is given, then x must be a string,\n",
      " |  bytes, or bytearray instance representing an integer literal in the\n",
      " |  given base.  The literal can be preceded by '+' or '-' and be surrounded\n",
      " |  by whitespace.  The base defaults to 10.  Valid bases are 0 and 2-36.\n",
      " |  Base 0 means to interpret the base from the string as an integer literal.\n",
      " |  >>> int('0b100', base=0)\n",
      " |  4\n",
      " |  \n",
      " |  Built-in subclasses:\n",
      " |      bool\n",
      " |  \n",
      " |  Methods defined here:\n",
      " |  \n",
      " |  __abs__(self, /)\n",
      " |      abs(self)\n",
      " |  \n",
      " |  __add__(self, value, /)\n",
      " |      Return self+value.\n",
      " |  \n",
      " |  __and__(self, value, /)\n",
      " |      Return self&value.\n",
      " |  \n",
      " |  __bool__(self, /)\n",
      " |      True if self else False\n",
      " |  \n",
      " |  __ceil__(...)\n",
      " |      Ceiling of an Integral returns itself.\n",
      " |  \n",
      " |  __divmod__(self, value, /)\n",
      " |      Return divmod(self, value).\n",
      " |  \n",
      " |  __eq__(self, value, /)\n",
      " |      Return self==value.\n",
      " |  \n",
      " |  __float__(self, /)\n",
      " |      float(self)\n",
      " |  \n",
      " |  __floor__(...)\n",
      " |      Flooring an Integral returns itself.\n",
      " |  \n",
      " |  __floordiv__(self, value, /)\n",
      " |      Return self//value.\n",
      " |  \n",
      " |  __format__(self, format_spec, /)\n",
      " |      Default object formatter.\n",
      " |  \n",
      " |  __ge__(self, value, /)\n",
      " |      Return self>=value.\n",
      " |  \n",
      " |  __getattribute__(self, name, /)\n",
      " |      Return getattr(self, name).\n",
      " |  \n",
      " |  __getnewargs__(self, /)\n",
      " |  \n",
      " |  __gt__(self, value, /)\n",
      " |      Return self>value.\n",
      " |  \n",
      " |  __hash__(self, /)\n",
      " |      Return hash(self).\n",
      " |  \n",
      " |  __index__(self, /)\n",
      " |      Return self converted to an integer, if self is suitable for use as an index into a list.\n",
      " |  \n",
      " |  __int__(self, /)\n",
      " |      int(self)\n",
      " |  \n",
      " |  __invert__(self, /)\n",
      " |      ~self\n",
      " |  \n",
      " |  __le__(self, value, /)\n",
      " |      Return self<=value.\n",
      " |  \n",
      " |  __lshift__(self, value, /)\n",
      " |      Return self<<value.\n",
      " |  \n",
      " |  __lt__(self, value, /)\n",
      " |      Return self<value.\n",
      " |  \n",
      " |  __mod__(self, value, /)\n",
      " |      Return self%value.\n",
      " |  \n",
      " |  __mul__(self, value, /)\n",
      " |      Return self*value.\n",
      " |  \n",
      " |  __ne__(self, value, /)\n",
      " |      Return self!=value.\n",
      " |  \n",
      " |  __neg__(self, /)\n",
      " |      -self\n",
      " |  \n",
      " |  __or__(self, value, /)\n",
      " |      Return self|value.\n",
      " |  \n",
      " |  __pos__(self, /)\n",
      " |      +self\n",
      " |  \n",
      " |  __pow__(self, value, mod=None, /)\n",
      " |      Return pow(self, value, mod).\n",
      " |  \n",
      " |  __radd__(self, value, /)\n",
      " |      Return value+self.\n",
      " |  \n",
      " |  __rand__(self, value, /)\n",
      " |      Return value&self.\n",
      " |  \n",
      " |  __rdivmod__(self, value, /)\n",
      " |      Return divmod(value, self).\n",
      " |  \n",
      " |  __repr__(self, /)\n",
      " |      Return repr(self).\n",
      " |  \n",
      " |  __rfloordiv__(self, value, /)\n",
      " |      Return value//self.\n",
      " |  \n",
      " |  __rlshift__(self, value, /)\n",
      " |      Return value<<self.\n",
      " |  \n",
      " |  __rmod__(self, value, /)\n",
      " |      Return value%self.\n",
      " |  \n",
      " |  __rmul__(self, value, /)\n",
      " |      Return value*self.\n",
      " |  \n",
      " |  __ror__(self, value, /)\n",
      " |      Return value|self.\n",
      " |  \n",
      " |  __round__(...)\n",
      " |      Rounding an Integral returns itself.\n",
      " |      \n",
      " |      Rounding with an ndigits argument also returns an integer.\n",
      " |  \n",
      " |  __rpow__(self, value, mod=None, /)\n",
      " |      Return pow(value, self, mod).\n",
      " |  \n",
      " |  __rrshift__(self, value, /)\n",
      " |      Return value>>self.\n",
      " |  \n",
      " |  __rshift__(self, value, /)\n",
      " |      Return self>>value.\n",
      " |  \n",
      " |  __rsub__(self, value, /)\n",
      " |      Return value-self.\n",
      " |  \n",
      " |  __rtruediv__(self, value, /)\n",
      " |      Return value/self.\n",
      " |  \n",
      " |  __rxor__(self, value, /)\n",
      " |      Return value^self.\n",
      " |  \n",
      " |  __sizeof__(self, /)\n",
      " |      Returns size in memory, in bytes.\n",
      " |  \n",
      " |  __sub__(self, value, /)\n",
      " |      Return self-value.\n",
      " |  \n",
      " |  __truediv__(self, value, /)\n",
      " |      Return self/value.\n",
      " |  \n",
      " |  __trunc__(...)\n",
      " |      Truncating an Integral returns itself.\n",
      " |  \n",
      " |  __xor__(self, value, /)\n",
      " |      Return self^value.\n",
      " |  \n",
      " |  as_integer_ratio(self, /)\n",
      " |      Return integer ratio.\n",
      " |      \n",
      " |      Return a pair of integers, whose ratio is exactly equal to the original int\n",
      " |      and with a positive denominator.\n",
      " |      \n",
      " |      >>> (10).as_integer_ratio()\n",
      " |      (10, 1)\n",
      " |      >>> (-10).as_integer_ratio()\n",
      " |      (-10, 1)\n",
      " |      >>> (0).as_integer_ratio()\n",
      " |      (0, 1)\n",
      " |  \n",
      " |  bit_count(self, /)\n",
      " |      Number of ones in the binary representation of the absolute value of self.\n",
      " |      \n",
      " |      Also known as the population count.\n",
      " |      \n",
      " |      >>> bin(13)\n",
      " |      '0b1101'\n",
      " |      >>> (13).bit_count()\n",
      " |      3\n",
      " |  \n",
      " |  bit_length(self, /)\n",
      " |      Number of bits necessary to represent self in binary.\n",
      " |      \n",
      " |      >>> bin(37)\n",
      " |      '0b100101'\n",
      " |      >>> (37).bit_length()\n",
      " |      6\n",
      " |  \n",
      " |  conjugate(...)\n",
      " |      Returns self, the complex conjugate of any int.\n",
      " |  \n",
      " |  to_bytes(self, /, length=1, byteorder='big', *, signed=False)\n",
      " |      Return an array of bytes representing an integer.\n",
      " |      \n",
      " |      length\n",
      " |        Length of bytes object to use.  An OverflowError is raised if the\n",
      " |        integer is not representable with the given number of bytes.  Default\n",
      " |        is length 1.\n",
      " |      byteorder\n",
      " |        The byte order used to represent the integer.  If byteorder is 'big',\n",
      " |        the most significant byte is at the beginning of the byte array.  If\n",
      " |        byteorder is 'little', the most significant byte is at the end of the\n",
      " |        byte array.  To request the native byte order of the host system, use\n",
      " |        `sys.byteorder' as the byte order value.  Default is to use 'big'.\n",
      " |      signed\n",
      " |        Determines whether two's complement is used to represent the integer.\n",
      " |        If signed is False and a negative integer is given, an OverflowError\n",
      " |        is raised.\n",
      " |  \n",
      " |  ----------------------------------------------------------------------\n",
      " |  Class methods defined here:\n",
      " |  \n",
      " |  from_bytes(bytes, byteorder='big', *, signed=False) from builtins.type\n",
      " |      Return the integer represented by the given array of bytes.\n",
      " |      \n",
      " |      bytes\n",
      " |        Holds the array of bytes to convert.  The argument must either\n",
      " |        support the buffer protocol or be an iterable object producing bytes.\n",
      " |        Bytes and bytearray are examples of built-in objects that support the\n",
      " |        buffer protocol.\n",
      " |      byteorder\n",
      " |        The byte order used to represent the integer.  If byteorder is 'big',\n",
      " |        the most significant byte is at the beginning of the byte array.  If\n",
      " |        byteorder is 'little', the most significant byte is at the end of the\n",
      " |        byte array.  To request the native byte order of the host system, use\n",
      " |        `sys.byteorder' as the byte order value.  Default is to use 'big'.\n",
      " |      signed\n",
      " |        Indicates whether two's complement is used to represent the integer.\n",
      " |  \n",
      " |  ----------------------------------------------------------------------\n",
      " |  Static methods defined here:\n",
      " |  \n",
      " |  __new__(*args, **kwargs) from builtins.type\n",
      " |      Create and return a new object.  See help(type) for accurate signature.\n",
      " |  \n",
      " |  ----------------------------------------------------------------------\n",
      " |  Data descriptors defined here:\n",
      " |  \n",
      " |  denominator\n",
      " |      the denominator of a rational number in lowest terms\n",
      " |  \n",
      " |  imag\n",
      " |      the imaginary part of a complex number\n",
      " |  \n",
      " |  numerator\n",
      " |      the numerator of a rational number in lowest terms\n",
      " |  \n",
      " |  real\n",
      " |      the real part of a complex number\n",
      "\n"
     ]
    }
   ],
   "source": [
    "help(int)"
   ]
  },
  {
   "cell_type": "code",
   "execution_count": 39,
   "id": "bc581fb1",
   "metadata": {},
   "outputs": [],
   "source": [
    "def nameofmyfunc(x):\n",
    "    return x+1"
   ]
  },
  {
   "cell_type": "code",
   "execution_count": 40,
   "id": "0c73c693",
   "metadata": {},
   "outputs": [
    {
     "data": {
      "text/plain": [
       "6"
      ]
     },
     "execution_count": 40,
     "metadata": {},
     "output_type": "execute_result"
    }
   ],
   "source": [
    "nameofmyfunc(5)"
   ]
  },
  {
   "cell_type": "code",
   "execution_count": 41,
   "id": "1ac1349c",
   "metadata": {},
   "outputs": [
    {
     "name": "stdout",
     "output_type": "stream",
     "text": [
      "His name is Tim And his age is 26\n",
      "His name is Tim And his age is 3\n"
     ]
    },
    {
     "data": {
      "text/plain": [
       "'45kg'"
      ]
     },
     "execution_count": 41,
     "metadata": {},
     "output_type": "execute_result"
    }
   ],
   "source": [
    "#class object and method.\n",
    "class Dog(object):\n",
    "    #methods\n",
    "    def __init__(self,name,age):#instructor method this happens or runs as and when the Dog object is created  \n",
    "        #print(\"Dog is an object\")\n",
    "        self.name = name\n",
    "        self.age = age\n",
    "    \n",
    "    #these are methods but to call them you should call them or address them like an object : Dog.speak()\n",
    "    def speak(self):\n",
    "        print(\"His name is \"+ self.name + \" And his age is \" + self.age)\n",
    "        pass\n",
    "    \n",
    "    def change_age(self, age):\n",
    "        self.age = age\n",
    "    \n",
    "    def add_weight(self,weight):\n",
    "        self.weight = weight\n",
    "        \n",
    "    def talk(self):\n",
    "        print(\"Bark!\")\n",
    "        \n",
    "        \n",
    "    \n",
    "    \n",
    "    #the self word is a dummy word that is to be replaced  by the instance that you create when programming\n",
    "    # for example the variable A = Dog() the A is going to be in place of self of the def.\n",
    "    \n",
    "A = Dog(\"Tim\",'26')\n",
    "B = A.speak()\n",
    "A.change_age('3')\n",
    "A.add_weight('45kg')\n",
    "A.speak()\n",
    "A.age\n",
    "#attributes == self.____ vs methods == functions that are written in def:\n",
    "A.name\n",
    "A.weight"
   ]
  },
  {
   "cell_type": "code",
   "execution_count": 42,
   "id": "a9b7c3e2",
   "metadata": {},
   "outputs": [
    {
     "name": "stdout",
     "output_type": "stream",
     "text": [
      "His name is yello And his age is 7\n",
      "Bark!\n",
      "His name is timmy And his age is 5\n",
      "Meow!\n"
     ]
    },
    {
     "data": {
      "text/plain": [
       "'white'"
      ]
     },
     "execution_count": 42,
     "metadata": {},
     "output_type": "execute_result"
    }
   ],
   "source": [
    "#inheritence, you are inherting from a super class from the class DOG\n",
    "class Cat():\n",
    "    #methods\n",
    "    def __init__(self,name,age):\n",
    "        self.name = name\n",
    "        self.age = age\n",
    "        self.color = color\n",
    "    \n",
    "    def speak(self,):\n",
    "        print(\"Dogs name is \"+ self.name + \" And his age is \" + self.age)\n",
    "        pass\n",
    "    \n",
    "    def change_age(self, age):\n",
    "        self.age = age\n",
    "    \n",
    "    def add_weight(self,weight):\n",
    "        self.weight = weight\n",
    "\n",
    "        \n",
    "class Kami(Dog):\n",
    "    def __init__(self, name , age, color):\n",
    "        super().__init__(name,age)\n",
    "        self.color = color\n",
    "    \n",
    "    def talk(self):\n",
    "        print('Meow!')\n",
    "\n",
    "\n",
    "\n",
    "        \n",
    "        \n",
    "A = Kami('timmy','5','white')\n",
    "B = Dog('yello','7')\n",
    "B.speak()\n",
    "B.talk()\n",
    "A.speak()\n",
    "A.talk()\n",
    "A.color"
   ]
  },
  {
   "cell_type": "code",
   "execution_count": 43,
   "id": "864764af",
   "metadata": {},
   "outputs": [],
   "source": [
    "class Point():\n",
    "    def __init__(self,x = 0, y = 0):\n",
    "        self.x = x\n",
    "        self.y = y\n",
    "        self.coord = (self.x , self.y)\n",
    "        \n",
    "    def move(self, x, y):\n",
    "        self.x += x\n",
    "        self.y += y\n",
    "\n",
    "    def __add__(self,p):\n",
    "        return Point(self.x +p.x, self.y +p.y)\n",
    "    \n",
    "    def __sub__(self,p):\n",
    "        return Point(self.x -p.x, self.y -p.y)\n",
    "\n",
    "    def __mul__(self,p):\n",
    "        return self.x *p.x, self.y *p.y\n",
    "    \n",
    "    def __str__(self):\n",
    "        return \"(\" + str(self.x) + ',' + str(self.y) + \")\""
   ]
  },
  {
   "cell_type": "code",
   "execution_count": 44,
   "id": "f697b017",
   "metadata": {},
   "outputs": [],
   "source": [
    "p1 = Point(3,4)\n",
    "p2 = Point(3,2)\n",
    "p3 = Point(1,3)\n",
    "p4 = Point(0,1)\n",
    "\n",
    "p5 = p1+p2\n",
    "p6 = p4-p1\n",
    "p7 = p2 * p3"
   ]
  },
  {
   "cell_type": "code",
   "execution_count": 45,
   "id": "237407f0",
   "metadata": {},
   "outputs": [
    {
     "name": "stdout",
     "output_type": "stream",
     "text": [
      "(6,6) (-3,-3) (3, 6)\n"
     ]
    }
   ],
   "source": [
    "print(p5,p6,p7)"
   ]
  },
  {
   "cell_type": "code",
   "execution_count": 46,
   "id": "a532eab4",
   "metadata": {},
   "outputs": [],
   "source": [
    "#Class methods and Static method \n",
    "\n",
    "class Dog:\n",
    "    dogs = []\n",
    "    \n",
    "    def __init__(self, name):\n",
    "        self.name = name\n",
    "        self.dogs.append(self)\n",
    "        \n",
    "    #without having to pass the class veriables \n",
    "    @classmethod\n",
    "    def num_dogs(cls):\n",
    "        return len(cls.dogs)\n",
    "    \n",
    "    #this is static method and this is for class and can be used within the class \n",
    "    @staticmethod\n",
    "    def bark(n):\n",
    "        \"\"\" barks n times \"\"\"\n",
    "        for _ in range(n):\n",
    "            print(\"barks!\")\n",
    "            pass\n",
    "    "
   ]
  },
  {
   "cell_type": "code",
   "execution_count": 47,
   "id": "840fb845",
   "metadata": {},
   "outputs": [],
   "source": [
    "tim = Dog(\"time\")"
   ]
  },
  {
   "cell_type": "code",
   "execution_count": 48,
   "id": "e8eb66bd",
   "metadata": {},
   "outputs": [],
   "source": [
    "jim = Dog(\"Jime\")"
   ]
  },
  {
   "cell_type": "code",
   "execution_count": 30,
   "id": "b8a1f50b",
   "metadata": {},
   "outputs": [
    {
     "name": "stdout",
     "output_type": "stream",
     "text": [
      "2\n"
     ]
    }
   ],
   "source": [
    "print(Dog.num_dogs())"
   ]
  },
  {
   "cell_type": "code",
   "execution_count": 31,
   "id": "0f771212",
   "metadata": {},
   "outputs": [
    {
     "name": "stdout",
     "output_type": "stream",
     "text": [
      "barks!\n",
      "barks!\n",
      "barks!\n",
      "barks!\n",
      "barks!\n"
     ]
    }
   ],
   "source": [
    "Dog.bark(5)"
   ]
  },
  {
   "cell_type": "code",
   "execution_count": 32,
   "id": "5ba5952b",
   "metadata": {},
   "outputs": [],
   "source": [
    "#Private and public classes\n",
    "#private class can be used within given program\n",
    "#where as the public is for the class that can be used from any program or project.\n",
    "\n"
   ]
  },
  {
   "cell_type": "code",
   "execution_count": 33,
   "id": "a19faf62",
   "metadata": {},
   "outputs": [],
   "source": [
    "class _Private:\n",
    "    def __init__(self, name):\n",
    "        self.name = name\n",
    "        \n",
    "    pass\n",
    "\n",
    "class NotPrivate:\n",
    "    def __init__(self,name):\n",
    "        \n",
    "        self.name = name\n",
    "        self.priv = _Private(name)\n",
    "        pass\n",
    "    \n",
    "    def _display(self):\n",
    "        print(\"hello\")\n",
    "        pass\n",
    "    \n",
    "    def display(self):\n",
    "        print(\"Hi\")"
   ]
  },
  {
   "cell_type": "code",
   "execution_count": 34,
   "id": "a28209d1",
   "metadata": {},
   "outputs": [],
   "source": [
    "test = NotPrivate(\"Time\")"
   ]
  },
  {
   "cell_type": "code",
   "execution_count": 35,
   "id": "f4154bd6",
   "metadata": {},
   "outputs": [
    {
     "name": "stdout",
     "output_type": "stream",
     "text": [
      "Hi\n"
     ]
    }
   ],
   "source": [
    "test.display()"
   ]
  },
  {
   "cell_type": "code",
   "execution_count": null,
   "id": "b3930ebd",
   "metadata": {},
   "outputs": [],
   "source": []
  }
 ],
 "metadata": {
  "kernelspec": {
   "display_name": "Python 3 (ipykernel)",
   "language": "python",
   "name": "python3"
  },
  "language_info": {
   "codemirror_mode": {
    "name": "ipython",
    "version": 3
   },
   "file_extension": ".py",
   "mimetype": "text/x-python",
   "name": "python",
   "nbconvert_exporter": "python",
   "pygments_lexer": "ipython3",
   "version": "3.11.3"
  }
 },
 "nbformat": 4,
 "nbformat_minor": 5
}
