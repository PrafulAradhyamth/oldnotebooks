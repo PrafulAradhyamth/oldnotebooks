{
 "cells": [
  {
   "cell_type": "code",
   "execution_count": 5,
   "id": "40849325",
   "metadata": {},
   "outputs": [],
   "source": [
    "import pymeshlab\n",
    "ms = pymeshlab.MeshSet()"
   ]
  },
  {
   "cell_type": "code",
   "execution_count": 6,
   "id": "ee796b29",
   "metadata": {},
   "outputs": [],
   "source": [
    "ms.load_new_mesh('D:/3D/bent_cylinder.obj')\n",
    "ms.generate_convex_hull()\n",
    "ms.save_current_mesh('D:/3D/bent_cylinder.ply')"
   ]
  },
  {
   "cell_type": "code",
   "execution_count": null,
   "id": "36ba77f0",
   "metadata": {},
   "outputs": [],
   "source": []
  }
 ],
 "metadata": {
  "kernelspec": {
   "display_name": "Python 3 (ipykernel)",
   "language": "python",
   "name": "python3"
  },
  "language_info": {
   "codemirror_mode": {
    "name": "ipython",
    "version": 3
   },
   "file_extension": ".py",
   "mimetype": "text/x-python",
   "name": "python",
   "nbconvert_exporter": "python",
   "pygments_lexer": "ipython3",
   "version": "3.11.3"
  }
 },
 "nbformat": 4,
 "nbformat_minor": 5
}
