{
 "cells": [
  {
   "attachments": {},
   "cell_type": "markdown",
   "metadata": {},
   "source": [
    "# Programming Practice III"
   ]
  },
  {
   "attachments": {},
   "cell_type": "markdown",
   "metadata": {},
   "source": [
    "## 1 Overview"
   ]
  },
  {
   "attachments": {},
   "cell_type": "markdown",
   "metadata": {},
   "source": [
    "## 2 Tasks"
   ]
  },
  {
   "cell_type": "code",
   "execution_count": null,
   "metadata": {
    "ExecuteTime": {
     "end_time": "2021-03-19T07:21:18.342916Z",
     "start_time": "2021-03-19T07:21:17.997829Z"
    }
   },
   "outputs": [],
   "source": [
    "import numpy as np\n",
    "import matplotlib.pyplot as plt"
   ]
  },
  {
   "attachments": {},
   "cell_type": "markdown",
   "metadata": {},
   "source": [
    "### 2.1 Define Neural Network"
   ]
  },
  {
   "cell_type": "code",
   "execution_count": null,
   "metadata": {
    "ExecuteTime": {
     "end_time": "2021-03-19T07:21:18.372191Z",
     "start_time": "2021-03-19T07:21:18.344404Z"
    }
   },
   "outputs": [],
   "source": [
    "# ----- useful functions from P2 -----\n",
    "def create_toy_dataset(n_samples=100):\n",
    "    # TODO\n",
    "\n",
    "def mse(y_true, y_pred):\n",
    "    # TODO\n",
    "\n",
    "def derivative_mse(y_true, y_pred):\n",
    "    # TODO\n",
    "\n",
    "def update_parameters(parameters, gradient, learning_rate):\n",
    "    # TODO\n",
    "\n",
    "# ----- ReLU and its derivative -----\n",
    "def relu(x):\n",
    "    # TODO\n",
    "\n",
    "def derivative_relu(x):\n",
    "    # TODO\n",
    "\n",
    "def forward_pass(x, w1, b1, w2, b2):\n",
    "    # TODO\n",
    "\n",
    "def cal_gradient(x, y, y_hat, w1, b1, w2, b2):\n",
    "    # TODO"
   ]
  },
  {
   "cell_type": "code",
   "execution_count": null,
   "metadata": {
    "ExecuteTime": {
     "end_time": "2021-03-19T07:21:18.382100Z",
     "start_time": "2021-03-19T07:21:18.374661Z"
    }
   },
   "outputs": [],
   "source": [
    "class NeuralNetwork():\n",
    "    def __init__(self, parameters, learning_rate, step):\n",
    "        # TODO\n",
    "    \n",
    "    def train(self, x, y, epochs):\n",
    "        # TODO\n",
    "    \n",
    "    def predict(self, x):\n",
    "        # TODO"
   ]
  },
  {
   "attachments": {},
   "cell_type": "markdown",
   "metadata": {},
   "source": [
    "### 2.2 Parameter Initialization"
   ]
  },
  {
   "cell_type": "code",
   "execution_count": null,
   "metadata": {
    "ExecuteTime": {
     "end_time": "2021-03-19T07:21:18.390037Z",
     "start_time": "2021-03-19T07:21:18.384084Z"
    }
   },
   "outputs": [],
   "source": [
    "def initialize_parameters(method, num_neurons):\n",
    "    # TODO\n",
    "    # return w1, b1, w2, b2"
   ]
  },
  {
   "cell_type": "code",
   "execution_count": null,
   "metadata": {},
   "outputs": [],
   "source": [
    "# TODO: train neural networks with different intialization methods\n",
    "# TODO: visualize the results"
   ]
  },
  {
   "attachments": {},
   "cell_type": "markdown",
   "metadata": {},
   "source": [
    "### 2.3 Learning Rate"
   ]
  },
  {
   "cell_type": "code",
   "execution_count": null,
   "metadata": {
    "ExecuteTime": {
     "end_time": "2021-03-19T07:22:13.812325Z",
     "start_time": "2021-03-19T07:22:13.630270Z"
    }
   },
   "outputs": [],
   "source": [
    "# TODO: train neural networks with different learning rates\n",
    "# TODO: visualize the results"
   ]
  },
  {
   "attachments": {},
   "cell_type": "markdown",
   "metadata": {},
   "source": [
    "### 2.4 Network Capacity"
   ]
  },
  {
   "cell_type": "code",
   "execution_count": null,
   "metadata": {
    "ExecuteTime": {
     "end_time": "2021-03-19T07:22:39.751160Z",
     "start_time": "2021-03-19T07:22:39.571085Z"
    }
   },
   "outputs": [],
   "source": [
    "# TODO: train neural networks with different capacities\n",
    "# TODO: visualize the results"
   ]
  },
  {
   "attachments": {},
   "cell_type": "markdown",
   "metadata": {},
   "source": [
    "### 2.5 Regularization"
   ]
  },
  {
   "cell_type": "code",
   "execution_count": null,
   "metadata": {
    "ExecuteTime": {
     "end_time": "2021-03-19T07:22:39.760578Z",
     "start_time": "2021-03-19T07:22:39.752620Z"
    }
   },
   "outputs": [],
   "source": [
    "class NeuralNetwork():\n",
    "    def __init__(self, parameters, learning_rate, step):\n",
    "        # TODO\n",
    "    \n",
    "    def train(self, x, y, epochs, decay):\n",
    "        # TODO\n",
    "        # You can modify here to add the gradients for the regularization terms\n",
    "    \n",
    "    def predict(self, x):\n",
    "        # TODO"
   ]
  },
  {
   "cell_type": "code",
   "execution_count": 2,
   "metadata": {
    "ExecuteTime": {
     "end_time": "2021-03-19T07:24:06.524304Z",
     "start_time": "2021-03-19T07:24:06.340288Z"
    }
   },
   "outputs": [
    {
     "name": "stdout",
     "output_type": "stream",
     "text": [
      "Collecting pygame\n",
      "  Downloading pygame-2.4.0-cp311-cp311-win_amd64.whl (10.6 MB)\n",
      "                                              0.0/10.6 MB ? eta -:--:--\n",
      "     -                                        0.5/10.6 MB 15.2 MB/s eta 0:00:01\n",
      "     ---                                      1.0/10.6 MB 13.1 MB/s eta 0:00:01\n",
      "     -----                                    1.6/10.6 MB 12.4 MB/s eta 0:00:01\n",
      "     -------                                  2.0/10.6 MB 11.4 MB/s eta 0:00:01\n",
      "     --------                                 2.3/10.6 MB 10.5 MB/s eta 0:00:01\n",
      "     ---------                                2.4/10.6 MB 10.2 MB/s eta 0:00:01\n",
      "     ----------                               2.8/10.6 MB 9.1 MB/s eta 0:00:01\n",
      "     -----------                              3.1/10.6 MB 8.6 MB/s eta 0:00:01\n",
      "     ------------                             3.3/10.6 MB 8.2 MB/s eta 0:00:01\n",
      "     --------------                           3.8/10.6 MB 8.4 MB/s eta 0:00:01\n",
      "     ----------------                         4.4/10.6 MB 8.7 MB/s eta 0:00:01\n",
      "     ------------------                       4.9/10.6 MB 8.9 MB/s eta 0:00:01\n",
      "     --------------------                     5.4/10.6 MB 9.2 MB/s eta 0:00:01\n",
      "     ----------------------                   6.0/10.6 MB 9.3 MB/s eta 0:00:01\n",
      "     ------------------------                 6.5/10.6 MB 9.5 MB/s eta 0:00:01\n",
      "     --------------------------               7.1/10.6 MB 9.6 MB/s eta 0:00:01\n",
      "     ----------------------------             7.6/10.6 MB 9.7 MB/s eta 0:00:01\n",
      "     ------------------------------           8.1/10.6 MB 9.8 MB/s eta 0:00:01\n",
      "     --------------------------------         8.7/10.6 MB 9.9 MB/s eta 0:00:01\n",
      "     ----------------------------------       9.2/10.6 MB 10.1 MB/s eta 0:00:01\n",
      "     ------------------------------------     9.7/10.6 MB 10.1 MB/s eta 0:00:01\n",
      "     -------------------------------------   10.3/10.6 MB 10.2 MB/s eta 0:00:01\n",
      "     --------------------------------------  10.6/10.6 MB 10.2 MB/s eta 0:00:01\n",
      "     --------------------------------------  10.6/10.6 MB 10.2 MB/s eta 0:00:01\n",
      "     ---------------------------------------- 10.6/10.6 MB 9.5 MB/s eta 0:00:00\n",
      "Installing collected packages: pygame\n",
      "Successfully installed pygame-2.4.0\n",
      "Note: you may need to restart the kernel to use updated packages.\n"
     ]
    }
   ],
   "source": [
    "# TODO: train neural networks with different decays\n",
    "# TODO: visualize the results\n",
    "\n",
    "%pip install pygame"
   ]
  },
  {
   "cell_type": "code",
   "execution_count": null,
   "metadata": {},
   "outputs": [],
   "source": []
  }
 ],
 "metadata": {
  "kernelspec": {
   "display_name": "Python 3",
   "language": "python",
   "name": "python3"
  },
  "language_info": {
   "codemirror_mode": {
    "name": "ipython",
    "version": 3
   },
   "file_extension": ".py",
   "mimetype": "text/x-python",
   "name": "python",
   "nbconvert_exporter": "python",
   "pygments_lexer": "ipython3",
   "version": "3.11.3"
  },
  "toc": {
   "base_numbering": 1,
   "nav_menu": {},
   "number_sections": false,
   "sideBar": false,
   "skip_h1_title": false,
   "title_cell": "Table of Contents",
   "title_sidebar": "Contents",
   "toc_cell": false,
   "toc_position": {
    "height": "830.4px",
    "left": "21px",
    "top": "133.6px",
    "width": "409.6px"
   },
   "toc_section_display": true,
   "toc_window_display": true
  }
 },
 "nbformat": 4,
 "nbformat_minor": 4
}
