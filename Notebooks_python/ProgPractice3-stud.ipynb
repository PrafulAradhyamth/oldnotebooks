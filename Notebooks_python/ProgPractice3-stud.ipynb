{
 "cells": [
  {
   "cell_type": "markdown",
   "metadata": {},
   "source": [
    "# Programming Practice III"
   ]
  },
  {
   "cell_type": "markdown",
   "metadata": {},
   "source": [
    "## 1 Overview"
   ]
  },
  {
   "cell_type": "markdown",
   "metadata": {},
   "source": [
    "## 2 Tasks"
   ]
  },
  {
   "cell_type": "code",
   "execution_count": null,
   "metadata": {
    "ExecuteTime": {
     "end_time": "2021-03-19T07:21:18.342916Z",
     "start_time": "2021-03-19T07:21:17.997829Z"
    }
   },
   "outputs": [],
   "source": [
    "import numpy as np\n",
    "import matplotlib.pyplot as plt"
   ]
  },
  {
   "cell_type": "markdown",
   "metadata": {},
   "source": [
    "### 2.1 Define Neural Network"
   ]
  },
  {
   "cell_type": "code",
   "execution_count": null,
   "metadata": {
    "ExecuteTime": {
     "end_time": "2021-03-19T07:21:18.372191Z",
     "start_time": "2021-03-19T07:21:18.344404Z"
    }
   },
   "outputs": [],
   "source": [
    "# ----- useful functions from P2 -----\n",
    "def create_toy_dataset(n_samples=100):\n",
    "    # TODO\n",
    "\n",
    "def mse(y_true, y_pred):\n",
    "    # TODO\n",
    "\n",
    "def derivative_mse(y_true, y_pred):\n",
    "    # TODO\n",
    "\n",
    "def update_parameters(parameters, gradient, learning_rate):\n",
    "    # TODO\n",
    "\n",
    "# ----- ReLU and its derivative -----\n",
    "def relu(x):\n",
    "    # TODO\n",
    "\n",
    "def derivative_relu(x):\n",
    "    # TODO\n",
    "\n",
    "def forward_pass(x, w1, b1, w2, b2):\n",
    "    # TODO\n",
    "\n",
    "def cal_gradient(x, y, y_hat, w1, b1, w2, b2):\n",
    "    # TODO"
   ]
  },
  {
   "cell_type": "code",
   "execution_count": null,
   "metadata": {
    "ExecuteTime": {
     "end_time": "2021-03-19T07:21:18.382100Z",
     "start_time": "2021-03-19T07:21:18.374661Z"
    }
   },
   "outputs": [],
   "source": [
    "class NeuralNetwork():\n",
    "    def __init__(self, parameters, learning_rate, step):\n",
    "        # TODO\n",
    "    \n",
    "    def train(self, x, y, epochs):\n",
    "        # TODO\n",
    "    \n",
    "    def predict(self, x):\n",
    "        # TODO"
   ]
  },
  {
   "cell_type": "markdown",
   "metadata": {},
   "source": [
    "### 2.2 Parameter Initialization"
   ]
  },
  {
   "cell_type": "code",
   "execution_count": null,
   "metadata": {
    "ExecuteTime": {
     "end_time": "2021-03-19T07:21:18.390037Z",
     "start_time": "2021-03-19T07:21:18.384084Z"
    }
   },
   "outputs": [],
   "source": [
    "def initialize_parameters(method, num_neurons):\n",
    "    # TODO\n",
    "    # return w1, b1, w2, b2"
   ]
  },
  {
   "cell_type": "code",
   "execution_count": null,
   "metadata": {},
   "outputs": [],
   "source": [
    "# TODO: train neural networks with different intialization methods\n",
    "# TODO: visualize the results"
   ]
  },
  {
   "cell_type": "markdown",
   "metadata": {},
   "source": [
    "### 2.3 Learning Rate"
   ]
  },
  {
   "cell_type": "code",
   "execution_count": null,
   "metadata": {
    "ExecuteTime": {
     "end_time": "2021-03-19T07:22:13.812325Z",
     "start_time": "2021-03-19T07:22:13.630270Z"
    }
   },
   "outputs": [],
   "source": [
    "# TODO: train neural networks with different learning rates\n",
    "# TODO: visualize the results"
   ]
  },
  {
   "cell_type": "markdown",
   "metadata": {},
   "source": [
    "### 2.4 Network Capacity"
   ]
  },
  {
   "cell_type": "code",
   "execution_count": null,
   "metadata": {
    "ExecuteTime": {
     "end_time": "2021-03-19T07:22:39.751160Z",
     "start_time": "2021-03-19T07:22:39.571085Z"
    }
   },
   "outputs": [],
   "source": [
    "# TODO: train neural networks with different capacities\n",
    "# TODO: visualize the results"
   ]
  },
  {
   "cell_type": "markdown",
   "metadata": {},
   "source": [
    "### 2.5 Regularization"
   ]
  },
  {
   "cell_type": "code",
   "execution_count": null,
   "metadata": {
    "ExecuteTime": {
     "end_time": "2021-03-19T07:22:39.760578Z",
     "start_time": "2021-03-19T07:22:39.752620Z"
    }
   },
   "outputs": [],
   "source": [
    "class NeuralNetwork():\n",
    "    def __init__(self, parameters, learning_rate, step):\n",
    "        # TODO\n",
    "    \n",
    "    def train(self, x, y, epochs, decay):\n",
    "        # TODO\n",
    "        # You can modify here to add the gradients for the regularization terms\n",
    "    \n",
    "    def predict(self, x):\n",
    "        # TODO"
   ]
  },
  {
   "cell_type": "code",
   "execution_count": null,
   "metadata": {
    "ExecuteTime": {
     "end_time": "2021-03-19T07:24:06.524304Z",
     "start_time": "2021-03-19T07:24:06.340288Z"
    }
   },
   "outputs": [],
   "source": [
    "# TODO: train neural networks with different decays\n",
    "# TODO: visualize the results"
   ]
  }
 ],
 "metadata": {
  "kernelspec": {
   "display_name": "Python 3",
   "language": "python",
   "name": "python3"
  },
  "language_info": {
   "codemirror_mode": {
    "name": "ipython",
    "version": 3
   },
   "file_extension": ".py",
   "mimetype": "text/x-python",
   "name": "python",
   "nbconvert_exporter": "python",
   "pygments_lexer": "ipython3",
   "version": "3.8.6"
  },
  "toc": {
   "base_numbering": 1,
   "nav_menu": {},
   "number_sections": false,
   "sideBar": false,
   "skip_h1_title": false,
   "title_cell": "Table of Contents",
   "title_sidebar": "Contents",
   "toc_cell": false,
   "toc_position": {
    "height": "830.4px",
    "left": "21px",
    "top": "133.6px",
    "width": "409.6px"
   },
   "toc_section_display": true,
   "toc_window_display": true
  }
 },
 "nbformat": 4,
 "nbformat_minor": 4
}
