{
 "cells": [
  {
   "cell_type": "markdown",
   "metadata": {},
   "source": [
    "# Programming Practice I\n",
    "## 1 Overview\n",
    "In this practice, you can learn the basic knowledge of Python. In particular, by doing this practice, it is expected that you can:\n",
    "* get familiar with the basic syntax of Python;\n",
    "* get the basic idea of NumPy;\n",
    "* get the basic idea of Matplotlib for visualization."
   ]
  },
  {
   "cell_type": "markdown",
   "metadata": {},
   "source": [
    "## 2 Tasks\n",
    "In this section, you can start the programming practice task by task. Please pay attention to the hints as well as the API documents online.\n",
    "\n",
    "### 2.1 Import Packages"
   ]
  },
  {
   "cell_type": "code",
   "execution_count": 1,
   "metadata": {
    "ExecuteTime": {
     "end_time": "2021-03-16T09:28:55.967898Z",
     "start_time": "2021-03-16T09:28:55.647707Z"
    }
   },
   "outputs": [],
   "source": [
    "# TODO: import packages\n",
    "import numpy as np\n",
    "import matplotlib.pyplot as plt"
   ]
  },
  {
   "cell_type": "markdown",
   "metadata": {},
   "source": [
    "### 2.2 1D Dataset"
   ]
  },
  {
   "cell_type": "code",
   "execution_count": 2,
   "metadata": {
    "ExecuteTime": {
     "end_time": "2021-03-16T09:28:55.992192Z",
     "start_time": "2021-03-16T09:28:55.968890Z"
    }
   },
   "outputs": [],
   "source": [
    "# TODO: define datasets\n",
    "# X = \n",
    "# Y = \n",
    "\n",
    "def create_dataset(n_samples=100):\n",
    "    x = np.linspace(-1,1,n_samples)\n",
    "    y = 0.1*x + x*x + x*x*x\n",
    "    \n",
    "    return x,y\n",
    "\n",
    "\n",
    "class dataset():\n",
    "    # TODO\n",
    "    def __init__(self,n_samples):\n",
    "        #self.x = x\n",
    "        #self.y = y\n",
    "        self.n_samples = n_samples\n",
    "        x = np.linspace(-1,1,n_samples)\n",
    "        y = 0.1*x + x*x + x*x*x    "
   ]
  },
  {
   "cell_type": "markdown",
   "metadata": {},
   "source": [
    "### 2.3 Plot the 1D Dataset"
   ]
  },
  {
   "cell_type": "code",
   "execution_count": 80,
   "metadata": {
    "ExecuteTime": {
     "end_time": "2021-03-16T09:28:56.117662Z",
     "start_time": "2021-03-16T09:28:55.996143Z"
    }
   },
   "outputs": [
    {
     "ename": "NameError",
     "evalue": "name 'create_dataset' is not defined",
     "output_type": "error",
     "traceback": [
      "\u001b[1;31m---------------------------------------------------------------------------\u001b[0m",
      "\u001b[1;31mNameError\u001b[0m                                 Traceback (most recent call last)",
      "Cell \u001b[1;32mIn[80], line 3\u001b[0m\n\u001b[0;32m      1\u001b[0m \u001b[38;5;66;03m# TODO: plotting\u001b[39;00m\n\u001b[0;32m      2\u001b[0m n_samples \u001b[38;5;241m=\u001b[39m \u001b[38;5;241m100\u001b[39m\n\u001b[1;32m----> 3\u001b[0m x , y \u001b[38;5;241m=\u001b[39m \u001b[43mcreate_dataset\u001b[49m(n_samples)\n\u001b[0;32m      4\u001b[0m plt\u001b[38;5;241m.\u001b[39mplot(x,y)\n\u001b[0;32m      5\u001b[0m plt\u001b[38;5;241m.\u001b[39mplot(x,y,\u001b[38;5;124m'\u001b[39m\u001b[38;5;124mb*\u001b[39m\u001b[38;5;124m'\u001b[39m)\n",
      "\u001b[1;31mNameError\u001b[0m: name 'create_dataset' is not defined"
     ]
    }
   ],
   "source": [
    "# TODO: plotting\n",
    "n_samples = 100\n",
    "x , y = create_dataset(n_samples)\n",
    "plt.plot(x,y)\n",
    "plt.plot(x,y,'b*')\n",
    "#'ro' is red o's, or b* is blue *'s'\n",
    "plt.axis([-2,2,-2,4])\n",
    "plt.show()"
   ]
  },
  {
   "cell_type": "markdown",
   "metadata": {},
   "source": [
    "### 2.4 2D Dataset"
   ]
  },
  {
   "cell_type": "code",
   "execution_count": 1,
   "metadata": {
    "ExecuteTime": {
     "end_time": "2021-03-16T09:28:56.123131Z",
     "start_time": "2021-03-16T09:28:56.119151Z"
    }
   },
   "outputs": [],
   "source": [
    "# TODO: define 2D dataset\n",
    "# X = \n",
    "# Y = \n",
    "import numpy as np\n",
    "from numpy import random as r\n",
    "from numpy.linalg import norm\n",
    "\n",
    "\n",
    "# gaussuian with mean 1 and std div = 2\n",
    "r.seed(42) \n",
    "y = []\n",
    "x = r.normal(loc=0, scale=1, size=(2, 100))\n",
    "x1 = x[0,:]\n",
    "x2 = x[1,:]\n",
    "for i in range(100):\n",
    "    temp_y = norm(x[:,i])\n",
    "    if (temp_y <1):\n",
    "        y.append(0)\n",
    "    else:\n",
    "        y.append(1)\n",
    "y = np.array(y)\n"
   ]
  },
  {
   "cell_type": "markdown",
   "metadata": {},
   "source": [
    "### 2.5 Plot the 2D Dataset"
   ]
  },
  {
   "cell_type": "code",
   "execution_count": 2,
   "metadata": {
    "ExecuteTime": {
     "end_time": "2021-03-16T09:28:56.274959Z",
     "start_time": "2021-03-16T09:28:56.124607Z"
    }
   },
   "outputs": [
    {
     "data": {
      "image/png": "[encoded data removed]",
      "text/plain": [
       "<Figure size 640x480 with 1 Axes>"
      ]
     },
     "metadata": {},
     "output_type": "display_data"
    }
   ],
   "source": [
    "# TODO: plotting\n",
    "import matplotlib.pyplot as plt\n",
    "\n",
    "plt.scatter(x1[y==1], x2[y==1],color = 'blue',marker = 'o')\n",
    "plt.scatter(x1[y==0], x2[y==0], color = 'red',marker = '^')\n",
    "plt.show()"
   ]
  },
  {
   "cell_type": "markdown",
   "metadata": {
    "ExecuteTime": {
     "end_time": "2021-03-15T16:23:01.361072Z",
     "start_time": "2021-03-15T16:23:01.356636Z"
    }
   },
   "source": [
    "### 2.6 A Simple Convolution"
   ]
  },
  {
   "cell_type": "code",
   "execution_count": 29,
   "metadata": {
    "ExecuteTime": {
     "end_time": "2021-03-16T09:28:56.285370Z",
     "start_time": "2021-03-16T09:28:56.276421Z"
    }
   },
   "outputs": [
    {
     "name": "stdout",
     "output_type": "stream",
     "text": [
      "[[1. 1.]\n",
      " [1. 1.]]\n"
     ]
    }
   ],
   "source": [
    "# TODO: simple convolution\n",
    "# X = \n",
    "# W = \n",
    "# X_conv => this is the output of the convolution \n",
    "# print(X_conv)\n",
    "import numpy as np\n",
    "x = range(16)\n",
    "W = np.ones([2,2])\n",
    "X = np.arange(16).reshape((4, 4))\n",
    "\n",
    "print(W)\n",
    "\n",
    "def convolve(X, W, padding=0, strides=1, dilation = 1):\n",
    "    # Cross Correlation\n",
    "    W = np.flipud(np.fliplr(W))\n",
    "\n",
    "    # Gather Shapes of Kernel + Image + Padding\n",
    "    xKernShape = W.shape[0]\n",
    "    yKernShape = W.shape[1]\n",
    "    xImgShape = X.shape[0]\n",
    "    yImgShape = X.shape[1]\n",
    "\n",
    "    # Shape of Output Convolution\n",
    "    xOutput = int(((xImgShape - xKernShape + 2 * padding) / strides) + 1)\n",
    "    yOutput = int(((yImgShape - yKernShape + 2 * padding) / strides) + 1)\n",
    "    X_conv = np.zeros((xOutput, yOutput))\n",
    "\n",
    "    # Apply Equal Padding to All Sides\n",
    "    if padding != 0:\n",
    "        XPadded = np.zeros((X.shape[0] + padding*2, X.shape[1] + padding*2))\n",
    "        XPadded[int(padding):int(-1 * padding), int(padding):int(-1 * padding)] = X\n",
    "        print(XPadded)\n",
    "    else:\n",
    "        XPadded = X\n",
    "\n",
    "    # Iterate through image\n",
    "    for y in range(X.shape[1]):\n",
    "        # Exit Convolution\n",
    "        if y > X.shape[1] - yKernShape:\n",
    "            break\n",
    "        # Only Convolve if y has gone down by the specified Strides\n",
    "        if y % strides == 0:\n",
    "            for x in range(X.shape[0]):\n",
    "                # Go to next row once kernel is out of bounds\n",
    "                if x > X.shape[0] - xKernShape:\n",
    "                    break\n",
    "                try:\n",
    "                    # Only Convolve if x has moved by the specified Strides\n",
    "                    if x % strides == 0:\n",
    "                        X_conv[x, y] = (W * XPadded[x: x + xKernShape, y: y + yKernShape]).sum()\n",
    "                except:\n",
    "                    break\n",
    "\n",
    "    return X_conv"
   ]
  },
  {
   "cell_type": "code",
   "execution_count": 31,
   "metadata": {},
   "outputs": [
    {
     "name": "stdout",
     "output_type": "stream",
     "text": [
      "[[10. 14. 18.]\n",
      " [26. 30. 34.]\n",
      " [42. 46. 50.]]\n"
     ]
    }
   ],
   "source": [
    "x_conv = convolve(X, W, padding=0, strides=1, dilation = 1)\n",
    "\n",
    "print(x_conv)"
   ]
  },
  {
   "cell_type": "code",
   "execution_count": null,
   "metadata": {},
   "outputs": [],
   "source": []
  }
 ],
 "metadata": {
  "kernelspec": {
   "display_name": "Python 3 (ipykernel)",
   "language": "python",
   "name": "python3"
  },
  "language_info": {
   "codemirror_mode": {
    "name": "ipython",
    "version": 3
   },
   "file_extension": ".py",
   "mimetype": "text/x-python",
   "name": "python",
   "nbconvert_exporter": "python",
   "pygments_lexer": "ipython3",
   "version": "3.11.3"
  },
  "toc": {
   "base_numbering": 1,
   "nav_menu": {},
   "number_sections": false,
   "sideBar": false,
   "skip_h1_title": false,
   "title_cell": "Table of Contents",
   "title_sidebar": "Contents",
   "toc_cell": false,
   "toc_position": {
    "height": "830.4px",
    "left": "22px",
    "top": "121.6px",
    "width": "409.6px"
   },
   "toc_section_display": true,
   "toc_window_display": true
  }
 },
 "nbformat": 4,
 "nbformat_minor": 4
}
